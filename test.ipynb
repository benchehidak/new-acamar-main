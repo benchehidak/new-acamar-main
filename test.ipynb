{
 "cells": [
  {
   "cell_type": "code",
   "execution_count": 4,
   "metadata": {},
   "outputs": [
    {
     "ename": "TclError",
     "evalue": "Can't find a usable init.tcl in the following directories: \n    C:/Users/bench/AppData/Local/Programs/Python/Python312/lib/tcl8.6 c:/lib/tcl8.6 c:/lib/tcl8.6 c:/library c:/library c:/tcl8.6.13/library c:/tcl8.6.13/library\n\n\n\nThis probably means that Tcl wasn't installed properly.\n",
     "output_type": "error",
     "traceback": [
      "\u001b[1;31m---------------------------------------------------------------------------\u001b[0m",
      "\u001b[1;31mTclError\u001b[0m                                  Traceback (most recent call last)",
      "Cell \u001b[1;32mIn[4], line 7\u001b[0m\n\u001b[0;32m      5\u001b[0m     label3 \u001b[38;5;241m=\u001b[39m tk\u001b[38;5;241m.\u001b[39mLabel(window,text\u001b[38;5;241m=\u001b[39m\u001b[38;5;124m\"\u001b[39m\u001b[38;5;124mbutton clicked\u001b[39m\u001b[38;5;124m\"\u001b[39m)\n\u001b[0;32m      6\u001b[0m     label3\u001b[38;5;241m.\u001b[39mgrid(column\u001b[38;5;241m=\u001b[39m\u001b[38;5;241m3\u001b[39m,row\u001b[38;5;241m=\u001b[39m\u001b[38;5;241m6\u001b[39m)\n\u001b[1;32m----> 7\u001b[0m window \u001b[38;5;241m=\u001b[39m \u001b[43mtk\u001b[49m\u001b[38;5;241;43m.\u001b[39;49m\u001b[43mTk\u001b[49m\u001b[43m(\u001b[49m\u001b[43m)\u001b[49m \u001b[38;5;66;03m#create new window\u001b[39;00m\n\u001b[0;32m      8\u001b[0m window\u001b[38;5;241m.\u001b[39mtitle(\u001b[38;5;124m\"\u001b[39m\u001b[38;5;124mhello\u001b[39m\u001b[38;5;124m\"\u001b[39m) \u001b[38;5;66;03m#set a title to the interafec\u001b[39;00m\n\u001b[0;32m      9\u001b[0m window\u001b[38;5;241m.\u001b[39mgeometry(\u001b[38;5;124m\"\u001b[39m\u001b[38;5;124m900x900\u001b[39m\u001b[38;5;124m\"\u001b[39m) \u001b[38;5;66;03m#set the interface size can be changed\u001b[39;00m\n",
      "File \u001b[1;32m~\\AppData\\Local\\Programs\\Python\\Python312\\Lib\\tkinter\\__init__.py:2345\u001b[0m, in \u001b[0;36mTk.__init__\u001b[1;34m(self, screenName, baseName, className, useTk, sync, use)\u001b[0m\n\u001b[0;32m   2343\u001b[0m         baseName \u001b[38;5;241m=\u001b[39m baseName \u001b[38;5;241m+\u001b[39m ext\n\u001b[0;32m   2344\u001b[0m interactive \u001b[38;5;241m=\u001b[39m \u001b[38;5;28;01mFalse\u001b[39;00m\n\u001b[1;32m-> 2345\u001b[0m \u001b[38;5;28mself\u001b[39m\u001b[38;5;241m.\u001b[39mtk \u001b[38;5;241m=\u001b[39m \u001b[43m_tkinter\u001b[49m\u001b[38;5;241;43m.\u001b[39;49m\u001b[43mcreate\u001b[49m\u001b[43m(\u001b[49m\u001b[43mscreenName\u001b[49m\u001b[43m,\u001b[49m\u001b[43m \u001b[49m\u001b[43mbaseName\u001b[49m\u001b[43m,\u001b[49m\u001b[43m \u001b[49m\u001b[43mclassName\u001b[49m\u001b[43m,\u001b[49m\u001b[43m \u001b[49m\u001b[43minteractive\u001b[49m\u001b[43m,\u001b[49m\u001b[43m \u001b[49m\u001b[43mwantobjects\u001b[49m\u001b[43m,\u001b[49m\u001b[43m \u001b[49m\u001b[43museTk\u001b[49m\u001b[43m,\u001b[49m\u001b[43m \u001b[49m\u001b[43msync\u001b[49m\u001b[43m,\u001b[49m\u001b[43m \u001b[49m\u001b[43muse\u001b[49m\u001b[43m)\u001b[49m\n\u001b[0;32m   2346\u001b[0m \u001b[38;5;28;01mif\u001b[39;00m useTk:\n\u001b[0;32m   2347\u001b[0m     \u001b[38;5;28mself\u001b[39m\u001b[38;5;241m.\u001b[39m_loadtk()\n",
      "\u001b[1;31mTclError\u001b[0m: Can't find a usable init.tcl in the following directories: \n    C:/Users/bench/AppData/Local/Programs/Python/Python312/lib/tcl8.6 c:/lib/tcl8.6 c:/lib/tcl8.6 c:/library c:/library c:/tcl8.6.13/library c:/tcl8.6.13/library\n\n\n\nThis probably means that Tcl wasn't installed properly.\n"
     ]
    }
   ],
   "source": [
    "import tkinter as tk\n",
    "from tkinter import *\n",
    "from tkinter import messagebox\n",
    "def on_button_click():\n",
    "    label3 = tk.Label(window,text=\"button clicked\")\n",
    "    label3.grid(column=3,row=6)\n",
    "window = tk.Tk() #create new window\n",
    "window.title(\"hello\") #set a title to the interafec\n",
    "window.geometry(\"900x900\") #set the interface size can be changed\n",
    "window.resizable(False,False) #disable the resizing of the window\n",
    "label = tk.Label(window,text =\"hello every one to my first interface in python\",font=\"bold,12\") # add a label to the window and set its font\n",
    "label.grid(column=3,row=0) #exact place of the label\n",
    "button = tk.Button(window,text=\"click me\",command=on_button_click, bg=\"red\")\n",
    "button.grid(column=0,row=2) #important to display the window elements\n",
    "menubar = Menu(window) #create a menu\n",
    "file = Menu(menubar, tearoff = 0)  #create a menu item\n",
    "menubar.add_cascade(label ='File', menu = file)  #add menu item to the menu and under the menu yo should add options\n",
    "doc = Menu(menubar, tearoff = 0) \n",
    "menubar.add_cascade(label ='doc', menu = doc) \n",
    "tools = Menu(menubar, tearoff = 0) \n",
    "menubar.add_cascade(label ='tools', menu = tools) \n",
    "help = Menu(menubar, tearoff = 0) \n",
    "menubar.add_cascade(label ='help', menu = help) \n",
    "window.config(menu = menubar) \n",
    "messagebox.showwarning(\"error\", \"you should study well\") # create a warning message box\n",
    "window.configure(bg='blue') #set a background color to the window\n",
    "window.mainloop() #open the window"
   ]
  }
 ],
 "metadata": {
  "kernelspec": {
   "display_name": "Python 3",
   "language": "python",
   "name": "python3"
  },
  "language_info": {
   "codemirror_mode": {
    "name": "ipython",
    "version": 3
   },
   "file_extension": ".py",
   "mimetype": "text/x-python",
   "name": "python",
   "nbconvert_exporter": "python",
   "pygments_lexer": "ipython3",
   "version": "3.12.3"
  }
 },
 "nbformat": 4,
 "nbformat_minor": 2
}
